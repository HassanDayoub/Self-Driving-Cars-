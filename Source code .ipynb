{
 "cells": [
  {
   "cell_type": "code",
   "execution_count": null,
   "metadata": {},
   "outputs": [],
   "source": [
    "\n",
    "!git clone https://github.com/rslim087a/track\n",
    "!ls track\n",
    "!pip3 install imgaug\n",
    "import os\n",
    "import numpy as np\n",
    "import matplotlib.pyplot as plt\n",
    "import matplotlib.image as mpimg\n",
    "import keras\n",
    "from keras.models import Sequential\n",
    "from keras.optimizers import Adam\n",
    "from keras.layers import Convolution2D, MaxPooling2D, Dropout, Flatten, Dense\n",
    "from sklearn.utils import shuffle\n",
    "from sklearn.model_selection import train_test_split\n",
    "from imgaug import augmenters as iaa\n",
    "import cv2\n",
    "import pandas as pd\n",
    "import ntpath\n",
    "import random\n",
    "datadir = 'track'\n",
    "columns = ['center', 'left', 'right', 'steering', 'throttle', 'reverse', 'speed']\n",
    "data = pd.read_csv(os.path.join(datadir, 'driving_log.csv'), names = columns)\n",
    "pd.set_option('display.max_colwidth', -1)\n",
    "data.head()\n",
    "def path_leaf(path):\n",
    "  head, tail = ntpath.split(path)\n",
    "  return tail\n",
    "data['center'] = data['center'].apply(path_leaf)\n",
    "data['left'] = data['left'].apply(path_leaf)\n",
    "data['right'] = data['right'].apply(path_leaf)\n",
    "data.head()\n",
    "num_bins = 25\n",
    "samples_per_bin = 400\n",
    "hist, bins = np.histogram(data['steering'], num_bins)\n",
    "center = (bins[:-1]+ bins[1:]) * 0.5\n",
    "plt.bar(center, hist, width=0.05)\n",
    "plt.plot((np.min(data['steering']), np.max(data['steering'])), (samples_per_bin, samples_per_bin))\n"
   ]
  },
  {
   "cell_type": "code",
   "execution_count": null,
   "metadata": {},
   "outputs": [],
   "source": [
    "print('total data:', len(data))\n",
    "remove_list = []\n",
    "for j in range(num_bins):\n",
    "  list_ = []\n",
    "  for i in range(len(data['steering'])):\n",
    "    if data['steering'][i] >= bins[j] and data['steering'][i] <= bins[j+1]:\n",
    "      list_.append(i)\n",
    "  list_ = shuffle(list_)\n",
    "  list_ = list_[samples_per_bin:]\n",
    "  remove_list.extend(list_)\n",
    " \n",
    "print('removed:', len(remove_list))\n",
    "data.drop(data.index[remove_list], inplace=True)\n",
    "print('remaining:', len(data))\n",
    " \n",
    "hist, _ = np.histogram(data['steering'], (num_bins))\n",
    "plt.bar(center, hist, width=0.05)\n",
    "plt.plot((np.min(data['steering']), np.max(data['steering'])), (samples_per_bin, samples_per_bin))\n"
   ]
  },
  {
   "cell_type": "code",
   "execution_count": null,
   "metadata": {},
   "outputs": [],
   "source": [
    "print(data.iloc[1])\n",
    "def load_img_steering(datadir, df):\n",
    "  image_path = []\n",
    "  steering = []\n",
    "  for i in range(len(data)):\n",
    "    indexed_data = data.iloc[i]\n",
    "    center, left, right = indexed_data[0], indexed_data[1], indexed_data[2]\n",
    "    image_path.append(os.path.join(datadir, center.strip()))\n",
    "    steering.append(float(indexed_data[3]))\n",
    "    # left image append\n",
    "    image_path.append(os.path.join(datadir,left.strip()))\n",
    "    steering.append(float(indexed_data[3])+0.15)\n",
    "    # right image append\n",
    "    image_path.append(os.path.join(datadir,right.strip()))\n",
    "    steering.append(float(indexed_data[3])-0.15)\n",
    "  image_paths = np.asarray(image_path)\n",
    "  steerings = np.asarray(steering)\n",
    "  return image_paths, steerings\n",
    " \n",
    "image_paths, steerings = load_img_steering(datadir + '/IMG', data)\n",
    "X_train, X_valid, y_train, y_valid = train_test_split(image_paths, steerings, test_size=0.2, random_state=6)\n",
    "print('Training Samples: {}\\nValid Samples: {}'.format(len(X_train), len(X_valid)))\n"
   ]
  },
  {
   "cell_type": "code",
   "execution_count": null,
   "metadata": {},
   "outputs": [],
   "source": [
    "fig, axes = plt.subplots(1, 2, figsize=(12, 4))\n",
    "axes[0].hist(y_train, bins=num_bins, width=0.05, color='blue')\n",
    "axes[0].set_title('Training set')\n",
    "axes[1].hist(y_valid, bins=num_bins, width=0.05, color='red')\n",
    "axes[1].set_title('Validation set')\n"
   ]
  },
  {
   "cell_type": "code",
   "execution_count": null,
   "metadata": {},
   "outputs": [],
   "source": [
    "def zoom(image):\n",
    "  zoom = iaa.Affine(scale=(1, 1.3))\n",
    "  image = zoom.augment_image(image)\n",
    "  return image\n"
   ]
  },
  {
   "cell_type": "code",
   "execution_count": null,
   "metadata": {},
   "outputs": [],
   "source": [
    "image = image_paths[random.randint(0, 1000)]\n",
    "original_image = mpimg.imread(image)\n",
    "zoomed_image = zoom(original_image)\n",
    " \n",
    "fig, axs = plt.subplots(1, 2, figsize=(15, 10))\n",
    "fig.tight_layout()\n",
    " \n",
    "axs[0].imshow(original_image)\n",
    "axs[0].set_title('Original Image')\n",
    " \n",
    "axs[1].imshow(zoomed_image)\n",
    "axs[1].set_title('Zoomed Image')\n",
    "\n"
   ]
  },
  {
   "cell_type": "code",
   "execution_count": null,
   "metadata": {},
   "outputs": [],
   "source": [
    "def pan(image):\n",
    "  pan = iaa.Affine(translate_percent= {\"x\" : (-0.1, 0.1), \"y\": (-0.1, 0.1)})\n",
    "  image = pan.augment_image(image)\n",
    "  return image\n"
   ]
  },
  {
   "cell_type": "code",
   "execution_count": null,
   "metadata": {},
   "outputs": [],
   "source": [
    "image = image_paths[random.randint(0, 1000)]\n",
    "original_image = mpimg.imread(image)\n",
    "panned_image = pan(original_image)\n",
    " \n",
    "fig, axs = plt.subplots(1, 2, figsize=(15, 10))\n",
    "fig.tight_layout()\n",
    " \n",
    "axs[0].imshow(original_image)\n",
    "axs[0].set_title('Original Image')\n",
    " \n",
    "axs[1].imshow(panned_image)\n",
    "axs[1].set_title('Panned Image')\n"
   ]
  },
  {
   "cell_type": "code",
   "execution_count": null,
   "metadata": {},
   "outputs": [],
   "source": [
    "\n",
    "def img_random_brightness(image):\n",
    "    brightness = iaa.Multiply((0.2, 1.2))\n",
    "    image = brightness.augment_image(image)\n",
    "    return image\n"
   ]
  },
  {
   "cell_type": "code",
   "execution_count": null,
   "metadata": {},
   "outputs": [],
   "source": [
    "image = image_paths[random.randint(0, 1000)]\n",
    "original_image = mpimg.imread(image)\n",
    "brightness_altered_image = img_random_brightness(original_image)\n",
    " \n",
    "fig, axs = plt.subplots(1, 2, figsize=(15, 10))\n",
    "fig.tight_layout()\n",
    " \n",
    "axs[0].imshow(original_image)\n",
    "axs[0].set_title('Original Image')\n",
    " \n",
    "axs[1].imshow(brightness_altered_image)\n",
    "axs[1].set_title('Brightness altered image ')\n"
   ]
  },
  {
   "cell_type": "code",
   "execution_count": null,
   "metadata": {},
   "outputs": [],
   "source": [
    "def img_random_flip(image, steering_angle):\n",
    "    image = cv2.flip(image,1)\n",
    "    steering_angle = -steering_angle\n",
    "    return image, steering_angle\n",
    "\n"
   ]
  },
  {
   "cell_type": "code",
   "execution_count": null,
   "metadata": {},
   "outputs": [],
   "source": [
    "random_index = random.randint(0, 1000)\n",
    "image = image_paths[random_index]\n",
    "steering_angle = steerings[random_index]\n",
    " \n",
    " \n",
    "original_image = mpimg.imread(image)\n",
    "flipped_image, flipped_steering_angle = img_random_flip(original_image, steering_angle)\n",
    " \n",
    "fig, axs = plt.subplots(1, 2, figsize=(15, 10))\n",
    "fig.tight_layout()\n",
    " \n",
    "axs[0].imshow(original_image)\n",
    "axs[0].set_title('Original Image - ' + 'Steering Angle:' + str(steering_angle))\n",
    " \n",
    "axs[1].imshow(flipped_image)\n",
    "axs[1].set_title('Flipped Image - ' + 'Steering Angle:' + str(flipped_steering_angle))\n"
   ]
  },
  {
   "cell_type": "code",
   "execution_count": null,
   "metadata": {},
   "outputs": [],
   "source": [
    "def random_augment(image, steering_angle):\n",
    "    image = mpimg.imread(image)\n",
    "    if np.random.rand() < 0.5:\n",
    "      image = pan(image)\n",
    "    if np.random.rand() < 0.5:\n",
    "      image = zoom(image)\n",
    "    if np.random.rand() < 0.5:\n",
    "      image = img_random_brightness(image)\n",
    "    if np.random.rand() < 0.5:\n",
    "      image, steering_angle = img_random_flip(image, steering_angle)\n",
    "    \n",
    "    return image, steering_angle\n"
   ]
  },
  {
   "cell_type": "code",
   "execution_count": null,
   "metadata": {},
   "outputs": [],
   "source": [
    "ncol = 2\n",
    "nrow = 10\n",
    " \n",
    "fig, axs = plt.subplots(nrow, ncol, figsize=(15, 50))\n",
    "fig.tight_layout()\n",
    " \n",
    "for i in range(10):\n",
    "  randnum = random.randint(0, len(image_paths) - 1)\n",
    "  random_image = image_paths[randnum]\n",
    "  random_steering = steerings[randnum]\n",
    "    \n",
    "  original_image = mpimg.imread(random_image)\n",
    "  augmented_image, steering = random_augment(random_image, random_steering)\n",
    "    \n",
    "  axs[i][0].imshow(original_image)\n",
    "  axs[i][0].set_title(\"Original Image\")\n",
    "  \n",
    "  axs[i][1].imshow(augmented_image)\n",
    "  axs[i][1].set_title(\"Augmented Image\")\n",
    "\n"
   ]
  },
  {
   "cell_type": "code",
   "execution_count": null,
   "metadata": {},
   "outputs": [],
   "source": [
    "def img_preprocess(img):\n",
    "    img = img[60:135,:,:]\n",
    "    img = cv2.cvtColor(img, cv2.COLOR_RGB2YUV)\n",
    "    img = cv2.GaussianBlur(img,  (3, 3), 0)\n",
    "    img = cv2.resize(img, (200, 66))\n",
    "    img = img/255\n",
    "    return img\n",
    "\n"
   ]
  },
  {
   "cell_type": "code",
   "execution_count": null,
   "metadata": {},
   "outputs": [],
   "source": [
    "image = image_paths[100]\n",
    "original_image = mpimg.imread(image)\n",
    "preprocessed_image = img_preprocess(original_image)\n",
    " \n",
    "fig, axs = plt.subplots(1, 2, figsize=(15, 10))\n",
    "fig.tight_layout()\n",
    "axs[0].imshow(original_image)\n",
    "axs[0].set_title('Original Image')\n",
    "axs[1].imshow(preprocessed_image)\n",
    "axs[1].set_title('Preprocessed Image')\n",
    "\n"
   ]
  },
  {
   "cell_type": "code",
   "execution_count": null,
   "metadata": {},
   "outputs": [],
   "source": [
    "def batch_generator(image_paths, steering_ang, batch_size, istraining):\n",
    "  \n",
    "  while True:\n",
    "    batch_img = []\n",
    "    batch_steering = []\n",
    "    \n",
    "    for i in range(batch_size):\n",
    "      random_index = random.randint(0, len(image_paths) - 1)\n",
    "      \n",
    "      if istraining:\n",
    "        im, steering = random_augment(image_paths[random_index], steering_ang[random_index])\n",
    "     \n",
    "      else:\n",
    "        im = mpimg.imread(image_paths[random_index])\n",
    "        steering = steering_ang[random_index]\n",
    "      \n",
    "      im = img_preprocess(im)\n",
    "      batch_img.append(im)\n",
    "      batch_steering.append(steering)\n",
    "    yield (np.asarray(batch_img), np.asarray(batch_steering))  \n"
   ]
  },
  {
   "cell_type": "code",
   "execution_count": null,
   "metadata": {},
   "outputs": [],
   "source": [
    "def batch_generator(image_paths, steering_ang, batch_size, istraining):\n",
    "  \n",
    "  while True:\n",
    "    batch_img = []\n",
    "    batch_steering = []\n",
    "    \n",
    "    for i in range(batch_size):\n",
    "      random_index = random.randint(0, len(image_paths) - 1)\n",
    "      \n",
    "      if istraining:\n",
    "        im, steering = random_augment(image_paths[random_index], steering_ang[random_index])\n",
    "     \n",
    "      else:\n",
    "        im = mpimg.imread(image_paths[random_index])\n",
    "        steering = steering_ang[random_index]\n",
    "      \n",
    "      im = img_preprocess(im)\n",
    "      batch_img.append(im)\n",
    "      batch_steering.append(steering)\n",
    "    yield (np.asarray(batch_img), np.asarray(batch_steering))  \n",
    "\n"
   ]
  },
  {
   "cell_type": "code",
   "execution_count": null,
   "metadata": {},
   "outputs": [],
   "source": [
    "x_train_gen, y_train_gen = next(batch_generator(X_train, y_train, 1, 1))\n",
    "x_valid_gen, y_valid_gen = next(batch_generator(X_valid, y_valid, 1, 0))\n",
    " \n",
    "fig, axs = plt.subplots(1, 2, figsize=(15, 10))\n",
    "fig.tight_layout()\n",
    " \n",
    "axs[0].imshow(x_train_gen[0])\n",
    "axs[0].set_title('Training Image')\n",
    " \n",
    "axs[1].imshow(x_valid_gen[0])\n",
    "axs[1].set_title('Validation Image')\n",
    "\n"
   ]
  },
  {
   "cell_type": "code",
   "execution_count": null,
   "metadata": {},
   "outputs": [],
   "source": [
    "def nvidia_model():\n",
    "  model = Sequential()\n",
    "  model.add(Convolution2D(24, 5, 5, subsample=(2, 2), input_shape=(66, 200, 3), activation='elu'))\n",
    "  model.add(Convolution2D(36, 5, 5, subsample=(2, 2), activation='elu'))\n",
    "  model.add(Convolution2D(48, 5, 5, subsample=(2, 2), activation='elu'))\n",
    "  model.add(Convolution2D(64, 3, 3, activation='elu'))\n",
    "  \n",
    "  model.add(Convolution2D(64, 3, 3, activation='elu'))\n",
    "#   model.add(Dropout(0.5))\n",
    "  \n",
    "  \n",
    "  model.add(Flatten())\n",
    "  \n",
    "  model.add(Dense(100, activation = 'elu'))\n",
    "#   model.add(Dropout(0.5))\n",
    "  \n",
    "  model.add(Dense(50, activation = 'elu'))\n",
    "#   model.add(Dropout(0.5))\n",
    "  \n",
    "  model.add(Dense(10, activation = 'elu'))\n",
    "#   model.add(Dropout(0.5))\n",
    " \n",
    "  model.add(Dense(1))\n",
    "  \n",
    "  optimizer = Adam(lr=1e-3)\n",
    "  model.compile(loss='mse', optimizer=optimizer)\n",
    "  return model\n",
    "\n"
   ]
  },
  {
   "cell_type": "code",
   "execution_count": null,
   "metadata": {},
   "outputs": [],
   "source": [
    "model = nvidia_model()\n",
    "print(model.summary())\n",
    "history = model.fit_generator(batch_generator(X_train, y_train, 100, 1),\n",
    "                                  steps_per_epoch=300, \n",
    "                                  epochs=10,\n",
    "                                  validation_data=batch_generator(X_valid, y_valid, 100, 0),\n",
    "                                  validation_steps=200,\n",
    "                                  verbose=1,\n",
    "                                  shuffle = 1)\n"
   ]
  },
  {
   "cell_type": "code",
   "execution_count": null,
   "metadata": {},
   "outputs": [],
   "source": [
    "plt.plot(history.history['loss'])\n",
    "plt.plot(history.history['val_loss'])\n",
    "plt.legend(['training', 'validation'])\n",
    "plt.title('Loss')\n",
    "plt.xlabel('Epoch')\n",
    "model.save('model.h5')\n",
    "from google.colab import files\n",
    "files.download('model.h5')\n"
   ]
  }
 ],
 "metadata": {
  "kernelspec": {
   "display_name": "Python 3",
   "language": "python",
   "name": "python3"
  },
  "language_info": {
   "codemirror_mode": {
    "name": "ipython",
    "version": 3
   },
   "file_extension": ".py",
   "mimetype": "text/x-python",
   "name": "python",
   "nbconvert_exporter": "python",
   "pygments_lexer": "ipython3",
   "version": "3.6.4"
  }
 },
 "nbformat": 4,
 "nbformat_minor": 2
}
